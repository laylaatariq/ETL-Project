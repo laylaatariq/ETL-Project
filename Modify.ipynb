{
 "cells": [
  {
   "cell_type": "code",
   "execution_count": 1,
   "metadata": {},
   "outputs": [],
   "source": [
    "#Libraries\n",
    "import pandas as pd\n",
    "from sqlalchemy import create_engine\n",
    "import datetime"
   ]
  },
  {
   "cell_type": "markdown",
   "metadata": {},
   "source": [
    "Team Members:\n",
    "Meliha Osmanovic, Ashley J Showers, Laylaa Tariq\n",
    "The sources that we used to extract our data from are:\n",
    "1. Kaggle\n",
    "2. Google dataset Search\n",
    "\n",
    "We filtered out the columns as per our needs. Using postgres database to create tables and load data into the tables. Hot_stuff dataset included 320496 rows and we extracted data for 2019 approximately 5300 rows. Top 50 dataset has only the top 50 songs on spotify, and we extracted the relevant columns.\n",
    "\n",
    "We ran into 2 problems where we had not psycop2 not installed on some of the computers so had trouble estabshling connection to the database. Another one was we named our database and one of the tables same and was not working. "
   ]
  },
  {
   "cell_type": "markdown",
   "metadata": {},
   "source": [
    "# Extract"
   ]
  },
  {
   "cell_type": "code",
   "execution_count": 2,
   "metadata": {},
   "outputs": [],
   "source": [
    "#Reading the Weekly Top 100 songs csv\n",
    "hot_stuff = \"hot_stuff_2.csv\"\n",
    "hot_stuff_df = pd.read_csv(hot_stuff)\n",
    "\n",
    "#Reading the Top 50 songs on spootify csv\n",
    "top_50 = \"top50.csv\"\n",
    "top_50_df = pd.read_csv(top_50, encoding = \"ISO-8859-1\")"
   ]
  },
  {
   "cell_type": "markdown",
   "metadata": {},
   "source": [
    "# Transformation"
   ]
  },
  {
   "cell_type": "code",
   "execution_count": 3,
   "metadata": {},
   "outputs": [],
   "source": [
    "#Creating a filtered DataFrane from specific Columns\n",
    "hot_col = [\"weekid\", \"song\", \"week_position\", \"performer\"]\n",
    "hot_stuff_transformed = hot_stuff_df[hot_col].copy()\n"
   ]
  },
  {
   "cell_type": "code",
   "execution_count": 4,
   "metadata": {},
   "outputs": [
    {
     "data": {
      "text/html": [
       "<div>\n",
       "<style scoped>\n",
       "    .dataframe tbody tr th:only-of-type {\n",
       "        vertical-align: middle;\n",
       "    }\n",
       "\n",
       "    .dataframe tbody tr th {\n",
       "        vertical-align: top;\n",
       "    }\n",
       "\n",
       "    .dataframe thead th {\n",
       "        text-align: right;\n",
       "    }\n",
       "</style>\n",
       "<table border=\"1\" class=\"dataframe\">\n",
       "  <thead>\n",
       "    <tr style=\"text-align: right;\">\n",
       "      <th></th>\n",
       "      <th>weekid</th>\n",
       "      <th>song</th>\n",
       "      <th>week_position</th>\n",
       "      <th>performer</th>\n",
       "    </tr>\n",
       "  </thead>\n",
       "  <tbody>\n",
       "    <tr>\n",
       "      <td>0</td>\n",
       "      <td>2019-12-28</td>\n",
       "      <td>All I Want For Christmas Is You</td>\n",
       "      <td>1</td>\n",
       "      <td>Mariah Carey</td>\n",
       "    </tr>\n",
       "    <tr>\n",
       "      <td>1</td>\n",
       "      <td>2019-12-28</td>\n",
       "      <td>Rockin' Around The Christmas Tree</td>\n",
       "      <td>2</td>\n",
       "      <td>Brenda Lee</td>\n",
       "    </tr>\n",
       "    <tr>\n",
       "      <td>2</td>\n",
       "      <td>2019-12-28</td>\n",
       "      <td>Circles</td>\n",
       "      <td>3</td>\n",
       "      <td>Post Malone</td>\n",
       "    </tr>\n",
       "    <tr>\n",
       "      <td>3</td>\n",
       "      <td>2019-12-28</td>\n",
       "      <td>Roxanne</td>\n",
       "      <td>4</td>\n",
       "      <td>Arizona Zervas</td>\n",
       "    </tr>\n",
       "    <tr>\n",
       "      <td>4</td>\n",
       "      <td>2019-12-28</td>\n",
       "      <td>Futsal Shuffle 2020</td>\n",
       "      <td>5</td>\n",
       "      <td>Lil Uzi Vert</td>\n",
       "    </tr>\n",
       "  </tbody>\n",
       "</table>\n",
       "</div>"
      ],
      "text/plain": [
       "      weekid                               song  week_position       performer\n",
       "0 2019-12-28    All I Want For Christmas Is You              1    Mariah Carey\n",
       "1 2019-12-28  Rockin' Around The Christmas Tree              2      Brenda Lee\n",
       "2 2019-12-28                            Circles              3     Post Malone\n",
       "3 2019-12-28                            Roxanne              4  Arizona Zervas\n",
       "4 2019-12-28                Futsal Shuffle 2020              5    Lil Uzi Vert"
      ]
     },
     "execution_count": 4,
     "metadata": {},
     "output_type": "execute_result"
    }
   ],
   "source": [
    "#Converting the weekid Column to Datetime format\n",
    "hot_stuff_transformed['weekid'] = pd.to_datetime(hot_stuff_transformed['weekid'], format='%m/%d/%Y')\n",
    "\n",
    "hot_stuff_transformed.head()"
   ]
  },
  {
   "cell_type": "code",
   "execution_count": 5,
   "metadata": {},
   "outputs": [],
   "source": [
    "#Filtering out the rows for year 2019 from the dataset\n",
    "start_date = \"2019-01-05\"\n",
    "end_date  = \"2019-12-28\"\n",
    "mask = (hot_stuff_transformed['weekid'] >= start_date) & (hot_stuff_transformed['weekid'] <= end_date)\n",
    "hot_stuff_transformed = hot_stuff_transformed.loc[mask]\n"
   ]
  },
  {
   "cell_type": "code",
   "execution_count": 6,
   "metadata": {},
   "outputs": [
    {
     "data": {
      "text/html": [
       "<div>\n",
       "<style scoped>\n",
       "    .dataframe tbody tr th:only-of-type {\n",
       "        vertical-align: middle;\n",
       "    }\n",
       "\n",
       "    .dataframe tbody tr th {\n",
       "        vertical-align: top;\n",
       "    }\n",
       "\n",
       "    .dataframe thead th {\n",
       "        text-align: right;\n",
       "    }\n",
       "</style>\n",
       "<table border=\"1\" class=\"dataframe\">\n",
       "  <thead>\n",
       "    <tr style=\"text-align: right;\">\n",
       "      <th></th>\n",
       "      <th>song</th>\n",
       "      <th>week_position</th>\n",
       "      <th>performer</th>\n",
       "    </tr>\n",
       "    <tr>\n",
       "      <th>weekid</th>\n",
       "      <th></th>\n",
       "      <th></th>\n",
       "      <th></th>\n",
       "    </tr>\n",
       "  </thead>\n",
       "  <tbody>\n",
       "    <tr>\n",
       "      <td>2019-12-28</td>\n",
       "      <td>All I Want For Christmas Is You</td>\n",
       "      <td>1</td>\n",
       "      <td>Mariah Carey</td>\n",
       "    </tr>\n",
       "    <tr>\n",
       "      <td>2019-12-28</td>\n",
       "      <td>Rockin' Around The Christmas Tree</td>\n",
       "      <td>2</td>\n",
       "      <td>Brenda Lee</td>\n",
       "    </tr>\n",
       "    <tr>\n",
       "      <td>2019-12-28</td>\n",
       "      <td>Circles</td>\n",
       "      <td>3</td>\n",
       "      <td>Post Malone</td>\n",
       "    </tr>\n",
       "    <tr>\n",
       "      <td>2019-12-28</td>\n",
       "      <td>Roxanne</td>\n",
       "      <td>4</td>\n",
       "      <td>Arizona Zervas</td>\n",
       "    </tr>\n",
       "    <tr>\n",
       "      <td>2019-12-28</td>\n",
       "      <td>Futsal Shuffle 2020</td>\n",
       "      <td>5</td>\n",
       "      <td>Lil Uzi Vert</td>\n",
       "    </tr>\n",
       "    <tr>\n",
       "      <td>...</td>\n",
       "      <td>...</td>\n",
       "      <td>...</td>\n",
       "      <td>...</td>\n",
       "    </tr>\n",
       "    <tr>\n",
       "      <td>2019-01-05</td>\n",
       "      <td>Last Shot</td>\n",
       "      <td>96</td>\n",
       "      <td>Kip Moore</td>\n",
       "    </tr>\n",
       "    <tr>\n",
       "      <td>2019-01-05</td>\n",
       "      <td>Fine China</td>\n",
       "      <td>97</td>\n",
       "      <td>Future &amp; Juice WRLD</td>\n",
       "    </tr>\n",
       "    <tr>\n",
       "      <td>2019-01-05</td>\n",
       "      <td>Envy Me</td>\n",
       "      <td>98</td>\n",
       "      <td>Calboy</td>\n",
       "    </tr>\n",
       "    <tr>\n",
       "      <td>2019-01-05</td>\n",
       "      <td>Lost In Japan</td>\n",
       "      <td>99</td>\n",
       "      <td>Shawn Mendes X Zedd</td>\n",
       "    </tr>\n",
       "    <tr>\n",
       "      <td>2019-01-05</td>\n",
       "      <td>This Is It</td>\n",
       "      <td>100</td>\n",
       "      <td>Scotty McCreery</td>\n",
       "    </tr>\n",
       "  </tbody>\n",
       "</table>\n",
       "<p>5200 rows × 3 columns</p>\n",
       "</div>"
      ],
      "text/plain": [
       "                                         song  week_position  \\\n",
       "weekid                                                         \n",
       "2019-12-28    All I Want For Christmas Is You              1   \n",
       "2019-12-28  Rockin' Around The Christmas Tree              2   \n",
       "2019-12-28                            Circles              3   \n",
       "2019-12-28                            Roxanne              4   \n",
       "2019-12-28                Futsal Shuffle 2020              5   \n",
       "...                                       ...            ...   \n",
       "2019-01-05                          Last Shot             96   \n",
       "2019-01-05                         Fine China             97   \n",
       "2019-01-05                            Envy Me             98   \n",
       "2019-01-05                      Lost In Japan             99   \n",
       "2019-01-05                         This Is It            100   \n",
       "\n",
       "                      performer  \n",
       "weekid                           \n",
       "2019-12-28         Mariah Carey  \n",
       "2019-12-28           Brenda Lee  \n",
       "2019-12-28          Post Malone  \n",
       "2019-12-28       Arizona Zervas  \n",
       "2019-12-28         Lil Uzi Vert  \n",
       "...                         ...  \n",
       "2019-01-05            Kip Moore  \n",
       "2019-01-05  Future & Juice WRLD  \n",
       "2019-01-05               Calboy  \n",
       "2019-01-05  Shawn Mendes X Zedd  \n",
       "2019-01-05      Scotty McCreery  \n",
       "\n",
       "[5200 rows x 3 columns]"
      ]
     },
     "execution_count": 6,
     "metadata": {},
     "output_type": "execute_result"
    }
   ],
   "source": [
    "#Setting Index for this dataframe\n",
    "hot_stuff_transformed.set_index('weekid', inplace=True)\n",
    "hot_stuff_transformed"
   ]
  },
  {
   "cell_type": "code",
   "execution_count": 7,
   "metadata": {},
   "outputs": [],
   "source": [
    "#Transforming top 50 songs dataframe\n",
    "col = [\"rating\", \"track\", \"artist\", \"genre\"]\n",
    "top_50_df = top_50_df[col].copy()\n",
    "\n",
    "\n",
    "# Rename the column headers\n",
    "top_50_df = top_50_df.rename(columns={\"rating\": \"Rank\",\n",
    "                                      \"track\": \"track_name\",\n",
    "                                      \"artist\": \"artist_name\"})"
   ]
  },
  {
   "cell_type": "code",
   "execution_count": 8,
   "metadata": {},
   "outputs": [
    {
     "data": {
      "text/html": [
       "<div>\n",
       "<style scoped>\n",
       "    .dataframe tbody tr th:only-of-type {\n",
       "        vertical-align: middle;\n",
       "    }\n",
       "\n",
       "    .dataframe tbody tr th {\n",
       "        vertical-align: top;\n",
       "    }\n",
       "\n",
       "    .dataframe thead th {\n",
       "        text-align: right;\n",
       "    }\n",
       "</style>\n",
       "<table border=\"1\" class=\"dataframe\">\n",
       "  <thead>\n",
       "    <tr style=\"text-align: right;\">\n",
       "      <th></th>\n",
       "      <th>track_name</th>\n",
       "      <th>artist_name</th>\n",
       "      <th>genre</th>\n",
       "    </tr>\n",
       "    <tr>\n",
       "      <th>Rank</th>\n",
       "      <th></th>\n",
       "      <th></th>\n",
       "      <th></th>\n",
       "    </tr>\n",
       "  </thead>\n",
       "  <tbody>\n",
       "    <tr>\n",
       "      <td>1</td>\n",
       "      <td>Señorita</td>\n",
       "      <td>Shawn Mendes</td>\n",
       "      <td>canadian pop</td>\n",
       "    </tr>\n",
       "    <tr>\n",
       "      <td>2</td>\n",
       "      <td>China</td>\n",
       "      <td>Anuel AA</td>\n",
       "      <td>reggaeton flow</td>\n",
       "    </tr>\n",
       "    <tr>\n",
       "      <td>3</td>\n",
       "      <td>boyfriend (with Social House)</td>\n",
       "      <td>Ariana Grande</td>\n",
       "      <td>dance pop</td>\n",
       "    </tr>\n",
       "    <tr>\n",
       "      <td>4</td>\n",
       "      <td>Beautiful People (feat. Khalid)</td>\n",
       "      <td>Ed Sheeran</td>\n",
       "      <td>pop</td>\n",
       "    </tr>\n",
       "    <tr>\n",
       "      <td>5</td>\n",
       "      <td>Goodbyes (Feat. Young Thug)</td>\n",
       "      <td>Post Malone</td>\n",
       "      <td>dfw rap</td>\n",
       "    </tr>\n",
       "  </tbody>\n",
       "</table>\n",
       "</div>"
      ],
      "text/plain": [
       "                           track_name    artist_name           genre\n",
       "Rank                                                                \n",
       "1                            Señorita   Shawn Mendes    canadian pop\n",
       "2                               China       Anuel AA  reggaeton flow\n",
       "3       boyfriend (with Social House)  Ariana Grande       dance pop\n",
       "4     Beautiful People (feat. Khalid)     Ed Sheeran             pop\n",
       "5         Goodbyes (Feat. Young Thug)    Post Malone         dfw rap"
      ]
     },
     "execution_count": 8,
     "metadata": {},
     "output_type": "execute_result"
    }
   ],
   "source": [
    "#Setting the Index\n",
    "top_50_df.set_index('Rank', inplace=True)\n",
    "\n",
    "top_50_df.head()"
   ]
  },
  {
   "cell_type": "markdown",
   "metadata": {},
   "source": [
    "# Create Database Connection"
   ]
  },
  {
   "cell_type": "code",
   "execution_count": 9,
   "metadata": {},
   "outputs": [],
   "source": [
    "#Establsihing a connection to postgres\n",
    "connection_string = \"postgres:postgres@localhost:5432/top_50\"\n",
    "engine = create_engine(f'postgresql://{connection_string}')"
   ]
  },
  {
   "cell_type": "code",
   "execution_count": 10,
   "metadata": {},
   "outputs": [
    {
     "data": {
      "text/plain": [
       "['hot_stuff', 'Top_50']"
      ]
     },
     "execution_count": 10,
     "metadata": {},
     "output_type": "execute_result"
    }
   ],
   "source": [
    "#Names of the tables\n",
    "engine.table_names()"
   ]
  },
  {
   "cell_type": "markdown",
   "metadata": {},
   "source": [
    "# Load data to the Database"
   ]
  },
  {
   "cell_type": "code",
   "execution_count": 11,
   "metadata": {},
   "outputs": [],
   "source": [
    "#Pushing data into the tables\n",
    "hot_stuff_transformed.to_sql(name='hot_stuff', con=engine, if_exists='append', index=True)\n",
    "top_50_df.to_sql(name='Top_50', con=engine, if_exists='append', index=True)"
   ]
  },
  {
   "cell_type": "code",
   "execution_count": null,
   "metadata": {},
   "outputs": [],
   "source": []
  },
  {
   "cell_type": "code",
   "execution_count": null,
   "metadata": {},
   "outputs": [],
   "source": []
  }
 ],
 "metadata": {
  "kernelspec": {
   "display_name": "Python 3",
   "language": "python",
   "name": "python3"
  },
  "language_info": {
   "codemirror_mode": {
    "name": "ipython",
    "version": 3
   },
   "file_extension": ".py",
   "mimetype": "text/x-python",
   "name": "python",
   "nbconvert_exporter": "python",
   "pygments_lexer": "ipython3",
   "version": "3.7.4"
  }
 },
 "nbformat": 4,
 "nbformat_minor": 2
}
